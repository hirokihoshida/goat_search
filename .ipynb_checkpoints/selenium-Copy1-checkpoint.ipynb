{
 "cells": [
  {
   "cell_type": "code",
   "execution_count": 1,
   "metadata": {},
   "outputs": [],
   "source": [
    "from selenium import webdriver\n",
    "from selenium.webdriver.common.keys import Keys\n",
    "from bs4 import BeautifulSoup\n",
    "import re\n",
    "import pandas as pd\n",
    "import os\n",
    "import time\n",
    "from selenium.webdriver.common.proxy import Proxy, ProxyType"
   ]
  },
  {
   "cell_type": "code",
   "execution_count": 9,
   "metadata": {},
   "outputs": [],
   "source": [
    "PROXY = \"qbt6z2r9qd7pw.012.npx.is:10000\"\n",
    "\n",
    "firefox_capabilities = webdriver.DesiredCapabilities.FIREFOX\n",
    "\n",
    "firefox_capabilities['proxy'] = {\n",
    "    \"proxyType\": \"MANUAL\",\n",
    "    \"httpProxy\": PROXY,\n",
    "    \"ftpProxy\": PROXY,\n",
    "    \"sslProxy\": PROXY\n",
    "}\n",
    "\n",
    "driver = webdriver.Firefox(capabilities=firefox_capabilities)\n",
    "driver.get(\"https://www.whatismyipaddress.com/\")"
   ]
  },
  {
   "cell_type": "code",
   "execution_count": 10,
   "metadata": {},
   "outputs": [],
   "source": [
    "PROXY = \"qbt6z2r9qd7pw.012.npx.is:10000\"\n",
    "\n",
    "firefox_capabilities = webdriver.DesiredCapabilities.FIREFOX\n",
    "\n",
    "firefox_capabilities['proxy'] = {\n",
    "    \"proxyType\": \"MANUAL\",\n",
    "    \"httpProxy\": PROXY,\n",
    "    \"ftpProxy\": PROXY,\n",
    "    \"sslProxy\": PROXY\n",
    "}\n",
    "\n",
    "driver = webdriver.Firefox(capabilities=firefox_capabilities)\n",
    "driver.get(\"https://www.newegg.com/\")\n",
    "\n",
    "login = driver.find_element_by_xpath(\"//a[@href='https://secure.newegg.com/NewMyAccount/AccountLogin.aspx?nextpage=https%3A%2F%2Fwww.newegg.com%2F']\")\n",
    "login.click()\n",
    "\n",
    "login = driver.find_element_by_xpath(\"//strong[text() = 'Sign Up']/parent::*\")\n",
    "login.click()\n",
    "\n",
    "information = {}\n",
    "information['fname'] = 'John'\n",
    "information['lname'] = 'Doe'\n",
    "information['email'] = 'johndoe@gmail.com'\n",
    "information['phone'] = '1234567890'\n",
    "information['password'] = 'Password123!'\n",
    "\n",
    "info = driver.find_element_by_xpath(\"//label[text()='First Name']/following-sibling::input\")\n",
    "info.send_keys(information['fname'])\n",
    "time.sleep(0.5)\n",
    "info = driver.find_element_by_xpath(\"//label[text()='Last Name']/following-sibling::input\")\n",
    "info.send_keys(information['lname'])\n",
    "time.sleep(0.5)\n",
    "info = driver.find_element_by_xpath(\"//label[text()='Email Address']/following-sibling::input\")\n",
    "info.send_keys(information['email'])\n",
    "time.sleep(0.5)\n",
    "info = driver.find_element_by_xpath(\"//label[text()='Mobile Phone Number (optional)']/following-sibling::input\")\n",
    "info.send_keys(information['phone'])\n",
    "time.sleep(0.5)\n",
    "info = driver.find_element_by_xpath(\"//label[text()='Password']/following-sibling::input\")\n",
    "info.send_keys(information['password'])\n",
    "time.sleep(0.5)\n",
    "driver.execute_script(\"document.querySelectorAll('input[type=checkbox]')[0].click()\")\n",
    "time.sleep(0.5)\n",
    "driver.execute_script(\"document.querySelectorAll('button[type=submit]')[0].click()\")"
   ]
  },
  {
   "cell_type": "code",
   "execution_count": 8,
   "metadata": {},
   "outputs": [],
   "source": [
    "from selenium import webdriver\n",
    "from selenium.webdriver.chrome.options import Options\n",
    "\n",
    "PROXY = \"proxy.packetstream.io:31112:hiroki_h:nRuT3pQUXEtGxRK4_country-UnitedStates\" # IP:PORT or HOST:PORT\n",
    "\n",
    "chrome_options = Options()\n",
    "chrome_options.add_argument('--proxy-server=%s' % PROXY)\n",
    "\n",
    "chrome = webdriver.Chrome(options=chrome_options)\n",
    "chrome.get(\"http://whatismyipaddress.com\")"
   ]
  },
  {
   "cell_type": "code",
   "execution_count": null,
   "metadata": {},
   "outputs": [],
   "source": [
    "from selenium import webdriver\n",
    "from selenium.webdriver.common.proxy import Proxy, ProxyType\n",
    "\n",
    "prox = Proxy()\n",
    "prox.proxy_type = ProxyType.MANUAL\n",
    "prox.http_proxy = \"ip_addr:port\"\n",
    "prox.socks_proxy = \"ip_addr:port\"\n",
    "prox.ssl_proxy = \"ip_addr:port\"\n",
    "\n",
    "capabilities = webdriver.DesiredCapabilities.CHROME\n",
    "prox.add_to_capabilities(capabilities)\n",
    "\n",
    "driver = webdriver.Chrome(desired_capabilities=capabilities)"
   ]
  }
 ],
 "metadata": {
  "kernelspec": {
   "display_name": "Python 3",
   "language": "python",
   "name": "python3"
  },
  "language_info": {
   "codemirror_mode": {
    "name": "ipython",
    "version": 3
   },
   "file_extension": ".py",
   "mimetype": "text/x-python",
   "name": "python",
   "nbconvert_exporter": "python",
   "pygments_lexer": "ipython3",
   "version": "3.8.6"
  }
 },
 "nbformat": 4,
 "nbformat_minor": 4
}
