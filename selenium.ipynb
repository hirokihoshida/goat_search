{
 "cells": [
  {
   "cell_type": "code",
   "execution_count": 1,
   "metadata": {},
   "outputs": [],
   "source": [
    "from selenium import webdriver\n",
    "from selenium.webdriver.common.keys import Keys\n",
    "from bs4 import BeautifulSoup\n",
    "import re\n",
    "import pandas as pd\n",
    "import os"
   ]
  },
  {
   "cell_type": "code",
   "execution_count": 4,
   "metadata": {},
   "outputs": [],
   "source": [
    "driver.get(\"https://www.goat.com/sneakers/air-jordan-1-retro-high-og-shadow-2018-555088-013/used\")"
   ]
  },
  {
   "cell_type": "code",
   "execution_count": null,
   "metadata": {},
   "outputs": [],
   "source": [
    "aqim5MGL:tz3Oxvx3BaLedy9FNjdC0GzVtXb5EyxGHGq8f9ZdG4FMw3x5fkpKLCloeMwygQ7d7R9op-dW4mNI69"
   ]
  },
  {
   "cell_type": "code",
   "execution_count": 8,
   "metadata": {},
   "outputs": [],
   "source": [
    "from selenium import webdriver\n",
    "from selenium.webdriver.chrome.options import Options\n",
    "\n",
    "PROXY = \"proxy.packetstream.io:31112:hiroki_h:nRuT3pQUXEtGxRK4_country-UnitedStates\" # IP:PORT or HOST:PORT\n",
    "\n",
    "chrome_options = Options()\n",
    "chrome_options.add_argument('--proxy-server=%s' % PROXY)\n",
    "\n",
    "chrome = webdriver.Chrome(options=chrome_options)\n",
    "chrome.get(\"http://whatismyipaddress.com\")"
   ]
  },
  {
   "cell_type": "code",
   "execution_count": null,
   "metadata": {},
   "outputs": [],
   "source": [
    "from selenium import webdriver\n",
    "from selenium.webdriver.common.proxy import Proxy, ProxyType\n",
    "\n",
    "prox = Proxy()\n",
    "prox.proxy_type = ProxyType.MANUAL\n",
    "prox.http_proxy = \"ip_addr:port\"\n",
    "prox.socks_proxy = \"ip_addr:port\"\n",
    "prox.ssl_proxy = \"ip_addr:port\"\n",
    "\n",
    "capabilities = webdriver.DesiredCapabilities.CHROME\n",
    "prox.add_to_capabilities(capabilities)\n",
    "\n",
    "driver = webdriver.Chrome(desired_capabilities=capabilities)"
   ]
  }
 ],
 "metadata": {
  "kernelspec": {
   "display_name": "Python 3",
   "language": "python",
   "name": "python3"
  },
  "language_info": {
   "codemirror_mode": {
    "name": "ipython",
    "version": 3
   },
   "file_extension": ".py",
   "mimetype": "text/x-python",
   "name": "python",
   "nbconvert_exporter": "python",
   "pygments_lexer": "ipython3",
   "version": "3.8.6"
  }
 },
 "nbformat": 4,
 "nbformat_minor": 4
}
